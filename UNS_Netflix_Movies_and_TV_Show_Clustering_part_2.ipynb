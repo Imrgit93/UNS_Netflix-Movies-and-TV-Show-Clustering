{
  "cells": [
    {
      "cell_type": "markdown",
      "metadata": {
        "id": "view-in-github",
        "colab_type": "text"
      },
      "source": [
        "<a href=\"https://colab.research.google.com/github/Imrgit93/UNS_Netflix-Movies-and-TV-Show-Clustering/blob/main/UNS_Netflix_Movies_and_TV_Show_Clustering_part_2.ipynb\" target=\"_parent\"><img src=\"https://colab.research.google.com/assets/colab-badge.svg\" alt=\"Open In Colab\"/></a>"
      ]
    },
    {
      "cell_type": "markdown",
      "metadata": {
        "id": "4cbgwZWWfWpp"
      },
      "source": [
        "# New Section"
      ]
    },
    {
      "cell_type": "code",
      "execution_count": 1,
      "metadata": {
        "id": "tAb77yZ9fzMG"
      },
      "outputs": [],
      "source": [
        "# Import Libraries\n",
        "import numpy as np\n",
        "import pandas as pd\n",
        "import matplotlib.pyplot as plt\n",
        "import seaborn as sns\n",
        "%matplotlib inline\n",
        "\n",
        "from scipy import stats\n",
        "from statsmodels.stats.outliers_influence import variance_inflation_factor\n",
        "from sklearn.preprocessing import StandardScaler\n",
        "from sklearn.model_selection import train_test_split\n",
        "from imblearn.over_sampling import SMOTE\n",
        "\n",
        "from sklearn.cluster import KMeans\n",
        "from sklearn.metrics import silhouette_samples, silhouette_score\n",
        "from sklearn.cluster import SpectralClustering\n",
        "import scipy.cluster.hierarchy as sch  # Using the dendogram to find the optimal number of clusters\n",
        "# Fitting hierarchical clustering to the dataset\n",
        "from sklearn.cluster import AgglomerativeClustering\n",
        "import warnings\n",
        "warnings.filterwarnings('ignore')"
      ]
    },
    {
      "cell_type": "code",
      "execution_count": 2,
      "metadata": {
        "colab": {
          "base_uri": "https://localhost:8080/"
        },
        "id": "pafL7Li0jyXW",
        "outputId": "9f9e9c45-ed70-48af-a9f2-4c7707893e78"
      },
      "outputs": [
        {
          "output_type": "stream",
          "name": "stdout",
          "text": [
            "Mounted at /content/drive\n"
          ]
        }
      ],
      "source": [
        "# Load Dataset\n",
        "from google.colab import drive\n",
        "drive.mount('/content/drive')"
      ]
    },
    {
      "cell_type": "code",
      "execution_count": 4,
      "metadata": {
        "id": "s_j3n7oSbHMT"
      },
      "outputs": [],
      "source": [
        "nmt4 = pd.read_csv('/content/drive/MyDrive/Alma Better/Capstone _Project/4 - UNS_Netflix Movies and TV Show Clustering./Lematized_file .csv')"
      ]
    },
    {
      "cell_type": "code",
      "execution_count": 5,
      "metadata": {
        "colab": {
          "base_uri": "https://localhost:8080/",
          "height": 206
        },
        "id": "FbJZ0t3Fd0vw",
        "outputId": "38e3e872-1430-4a74-dea5-34bb37a83c62"
      },
      "outputs": [
        {
          "output_type": "execute_result",
          "data": {
            "text/plain": [
              "   Unnamed: 0  title                                          Final_mgs  \\\n",
              "0           0     3%  ['TVShow', 'JoãoMiguel', 'BiancaComparato', 'M...   \n",
              "1           1   7:19  ['Movie', 'DemiánBichir', 'HéctorBonilla', 'Os...   \n",
              "2           2  23:59  ['Movie', 'TeddChan', 'StellaChung', 'HenleyHi...   \n",
              "3           3      9  ['Movie', 'ElijahWood', 'JohnC.Reilly', 'Jenni...   \n",
              "4           4     21  ['Movie', 'JimSturgess', 'KevinSpacey', 'KateB...   \n",
              "\n",
              "                                   tokenized_message  \\\n",
              "0  TVShow JoãoMiguel BiancaComparato MichelGomes ...   \n",
              "1  Movie DemiánBichir HéctorBonilla OscarSerrano ...   \n",
              "2  Movie TeddChan StellaChung HenleyHii LawrenceK...   \n",
              "3  Movie ElijahWood JohnC.Reilly JenniferConnelly...   \n",
              "4  Movie JimSturgess KevinSpacey KateBosworth Aar...   \n",
              "\n",
              "                                      lemmat_message  \n",
              "0  TVShow JoãoMiguel BiancaComparato MichelGomes ...  \n",
              "1  Movie DemiánBichir HéctorBonilla OscarSerrano ...  \n",
              "2  Movie TeddChan StellaChung HenleyHii LawrenceK...  \n",
              "3  Movie ElijahWood JohnC.Reilly JenniferConnelly...  \n",
              "4  Movie JimSturgess KevinSpacey KateBosworth Aar...  "
            ],
            "text/html": [
              "\n",
              "  <div id=\"df-0fe2acda-fd8a-464d-b40d-17bfb4a31b37\">\n",
              "    <div class=\"colab-df-container\">\n",
              "      <div>\n",
              "<style scoped>\n",
              "    .dataframe tbody tr th:only-of-type {\n",
              "        vertical-align: middle;\n",
              "    }\n",
              "\n",
              "    .dataframe tbody tr th {\n",
              "        vertical-align: top;\n",
              "    }\n",
              "\n",
              "    .dataframe thead th {\n",
              "        text-align: right;\n",
              "    }\n",
              "</style>\n",
              "<table border=\"1\" class=\"dataframe\">\n",
              "  <thead>\n",
              "    <tr style=\"text-align: right;\">\n",
              "      <th></th>\n",
              "      <th>Unnamed: 0</th>\n",
              "      <th>title</th>\n",
              "      <th>Final_mgs</th>\n",
              "      <th>tokenized_message</th>\n",
              "      <th>lemmat_message</th>\n",
              "    </tr>\n",
              "  </thead>\n",
              "  <tbody>\n",
              "    <tr>\n",
              "      <th>0</th>\n",
              "      <td>0</td>\n",
              "      <td>3%</td>\n",
              "      <td>['TVShow', 'JoãoMiguel', 'BiancaComparato', 'M...</td>\n",
              "      <td>TVShow JoãoMiguel BiancaComparato MichelGomes ...</td>\n",
              "      <td>TVShow JoãoMiguel BiancaComparato MichelGomes ...</td>\n",
              "    </tr>\n",
              "    <tr>\n",
              "      <th>1</th>\n",
              "      <td>1</td>\n",
              "      <td>7:19</td>\n",
              "      <td>['Movie', 'DemiánBichir', 'HéctorBonilla', 'Os...</td>\n",
              "      <td>Movie DemiánBichir HéctorBonilla OscarSerrano ...</td>\n",
              "      <td>Movie DemiánBichir HéctorBonilla OscarSerrano ...</td>\n",
              "    </tr>\n",
              "    <tr>\n",
              "      <th>2</th>\n",
              "      <td>2</td>\n",
              "      <td>23:59</td>\n",
              "      <td>['Movie', 'TeddChan', 'StellaChung', 'HenleyHi...</td>\n",
              "      <td>Movie TeddChan StellaChung HenleyHii LawrenceK...</td>\n",
              "      <td>Movie TeddChan StellaChung HenleyHii LawrenceK...</td>\n",
              "    </tr>\n",
              "    <tr>\n",
              "      <th>3</th>\n",
              "      <td>3</td>\n",
              "      <td>9</td>\n",
              "      <td>['Movie', 'ElijahWood', 'JohnC.Reilly', 'Jenni...</td>\n",
              "      <td>Movie ElijahWood JohnC.Reilly JenniferConnelly...</td>\n",
              "      <td>Movie ElijahWood JohnC.Reilly JenniferConnelly...</td>\n",
              "    </tr>\n",
              "    <tr>\n",
              "      <th>4</th>\n",
              "      <td>4</td>\n",
              "      <td>21</td>\n",
              "      <td>['Movie', 'JimSturgess', 'KevinSpacey', 'KateB...</td>\n",
              "      <td>Movie JimSturgess KevinSpacey KateBosworth Aar...</td>\n",
              "      <td>Movie JimSturgess KevinSpacey KateBosworth Aar...</td>\n",
              "    </tr>\n",
              "  </tbody>\n",
              "</table>\n",
              "</div>\n",
              "      <button class=\"colab-df-convert\" onclick=\"convertToInteractive('df-0fe2acda-fd8a-464d-b40d-17bfb4a31b37')\"\n",
              "              title=\"Convert this dataframe to an interactive table.\"\n",
              "              style=\"display:none;\">\n",
              "        \n",
              "  <svg xmlns=\"http://www.w3.org/2000/svg\" height=\"24px\"viewBox=\"0 0 24 24\"\n",
              "       width=\"24px\">\n",
              "    <path d=\"M0 0h24v24H0V0z\" fill=\"none\"/>\n",
              "    <path d=\"M18.56 5.44l.94 2.06.94-2.06 2.06-.94-2.06-.94-.94-2.06-.94 2.06-2.06.94zm-11 1L8.5 8.5l.94-2.06 2.06-.94-2.06-.94L8.5 2.5l-.94 2.06-2.06.94zm10 10l.94 2.06.94-2.06 2.06-.94-2.06-.94-.94-2.06-.94 2.06-2.06.94z\"/><path d=\"M17.41 7.96l-1.37-1.37c-.4-.4-.92-.59-1.43-.59-.52 0-1.04.2-1.43.59L10.3 9.45l-7.72 7.72c-.78.78-.78 2.05 0 2.83L4 21.41c.39.39.9.59 1.41.59.51 0 1.02-.2 1.41-.59l7.78-7.78 2.81-2.81c.8-.78.8-2.07 0-2.86zM5.41 20L4 18.59l7.72-7.72 1.47 1.35L5.41 20z\"/>\n",
              "  </svg>\n",
              "      </button>\n",
              "      \n",
              "  <style>\n",
              "    .colab-df-container {\n",
              "      display:flex;\n",
              "      flex-wrap:wrap;\n",
              "      gap: 12px;\n",
              "    }\n",
              "\n",
              "    .colab-df-convert {\n",
              "      background-color: #E8F0FE;\n",
              "      border: none;\n",
              "      border-radius: 50%;\n",
              "      cursor: pointer;\n",
              "      display: none;\n",
              "      fill: #1967D2;\n",
              "      height: 32px;\n",
              "      padding: 0 0 0 0;\n",
              "      width: 32px;\n",
              "    }\n",
              "\n",
              "    .colab-df-convert:hover {\n",
              "      background-color: #E2EBFA;\n",
              "      box-shadow: 0px 1px 2px rgba(60, 64, 67, 0.3), 0px 1px 3px 1px rgba(60, 64, 67, 0.15);\n",
              "      fill: #174EA6;\n",
              "    }\n",
              "\n",
              "    [theme=dark] .colab-df-convert {\n",
              "      background-color: #3B4455;\n",
              "      fill: #D2E3FC;\n",
              "    }\n",
              "\n",
              "    [theme=dark] .colab-df-convert:hover {\n",
              "      background-color: #434B5C;\n",
              "      box-shadow: 0px 1px 3px 1px rgba(0, 0, 0, 0.15);\n",
              "      filter: drop-shadow(0px 1px 2px rgba(0, 0, 0, 0.3));\n",
              "      fill: #FFFFFF;\n",
              "    }\n",
              "  </style>\n",
              "\n",
              "      <script>\n",
              "        const buttonEl =\n",
              "          document.querySelector('#df-0fe2acda-fd8a-464d-b40d-17bfb4a31b37 button.colab-df-convert');\n",
              "        buttonEl.style.display =\n",
              "          google.colab.kernel.accessAllowed ? 'block' : 'none';\n",
              "\n",
              "        async function convertToInteractive(key) {\n",
              "          const element = document.querySelector('#df-0fe2acda-fd8a-464d-b40d-17bfb4a31b37');\n",
              "          const dataTable =\n",
              "            await google.colab.kernel.invokeFunction('convertToInteractive',\n",
              "                                                     [key], {});\n",
              "          if (!dataTable) return;\n",
              "\n",
              "          const docLinkHtml = 'Like what you see? Visit the ' +\n",
              "            '<a target=\"_blank\" href=https://colab.research.google.com/notebooks/data_table.ipynb>data table notebook</a>'\n",
              "            + ' to learn more about interactive tables.';\n",
              "          element.innerHTML = '';\n",
              "          dataTable['output_type'] = 'display_data';\n",
              "          await google.colab.output.renderOutput(dataTable, element);\n",
              "          const docLink = document.createElement('div');\n",
              "          docLink.innerHTML = docLinkHtml;\n",
              "          element.appendChild(docLink);\n",
              "        }\n",
              "      </script>\n",
              "    </div>\n",
              "  </div>\n",
              "  "
            ]
          },
          "metadata": {},
          "execution_count": 5
        }
      ],
      "source": [
        "nmt4.head()"
      ]
    },
    {
      "cell_type": "code",
      "execution_count": null,
      "metadata": {
        "colab": {
          "base_uri": "https://localhost:8080/"
        },
        "id": "y8lT6nQJd453",
        "outputId": "e10c8775-90f2-4edf-c553-bed38aff2a1b"
      },
      "outputs": [
        {
          "data": {
            "text/plain": [
              "Index(['Unnamed: 0', 'title', 'Final_mgs', 'tokenized_message',\n",
              "       'lemmat_message'],\n",
              "      dtype='object')"
            ]
          },
          "execution_count": 5,
          "metadata": {},
          "output_type": "execute_result"
        }
      ],
      "source": [
        "nmt4.columns"
      ]
    },
    {
      "cell_type": "code",
      "execution_count": 6,
      "metadata": {
        "id": "zJpnF3yMeX93"
      },
      "outputs": [],
      "source": [
        "nmt4 = nmt4.drop(['Unnamed: 0','Final_mgs', 'tokenized_message'], axis=1)"
      ]
    },
    {
      "cell_type": "code",
      "execution_count": 7,
      "metadata": {
        "id": "E9OsHlB3fX7i"
      },
      "outputs": [],
      "source": [
        "#Vectorization for tokenized_message\n",
        "from sklearn.feature_extraction.text import TfidfVectorizer"
      ]
    },
    {
      "cell_type": "code",
      "execution_count": 8,
      "metadata": {
        "id": "a580MKprfczo"
      },
      "outputs": [],
      "source": [
        "vectorizer = TfidfVectorizer(max_features = 20000)\n",
        "X = vectorizer.fit_transform(nmt4['lemmat_message'])\n",
        "f_mames = vectorizer.get_feature_names()\n",
        "matrix = X.todense()\n",
        "list_n =matrix.tolist()\n",
        "df_v1 = pd.DataFrame(list_n,columns = f_mames)"
      ]
    },
    {
      "cell_type": "code",
      "execution_count": 9,
      "metadata": {
        "colab": {
          "base_uri": "https://localhost:8080/",
          "height": 237
        },
        "id": "yJjdDoCwf8Yv",
        "outputId": "4508f7c4-a87c-48a7-8efe-eae4b7fda64f"
      },
      "outputs": [
        {
          "output_type": "execute_result",
          "data": {
            "text/plain": [
              "   zhangzhenhuan  zhangzixian  zhangziyi  zhaobenshan  zhaojinmai  zhaojun  \\\n",
              "0            0.0          0.0        0.0          0.0         0.0      0.0   \n",
              "1            0.0          0.0        0.0          0.0         0.0      0.0   \n",
              "2            0.0          0.0        0.0          0.0         0.0      0.0   \n",
              "\n",
              "   zhaolixin  zhaolusi  zhaoshunran  zhaowei  ...  şahinirmak  şebnembozoklu  \\\n",
              "0        0.0       0.0          0.0      0.0  ...         0.0            0.0   \n",
              "1        0.0       0.0          0.0      0.0  ...         0.0            0.0   \n",
              "2        0.0       0.0          0.0      0.0  ...         0.0            0.0   \n",
              "\n",
              "   şenaygürler  şenolsönmez  şeref  şerifsezer  şinasiyurtsever  şiten  şler  \\\n",
              "0          0.0          0.0    0.0         0.0              0.0    0.0   0.0   \n",
              "1          0.0          0.0    0.0         0.0              0.0    0.0   0.0   \n",
              "2          0.0          0.0    0.0         0.0              0.0    0.0   0.0   \n",
              "\n",
              "   şükranovalı  \n",
              "0          0.0  \n",
              "1          0.0  \n",
              "2          0.0  \n",
              "\n",
              "[3 rows x 200 columns]"
            ],
            "text/html": [
              "\n",
              "  <div id=\"df-bc804325-697f-4424-9d01-a03d6ea6e195\">\n",
              "    <div class=\"colab-df-container\">\n",
              "      <div>\n",
              "<style scoped>\n",
              "    .dataframe tbody tr th:only-of-type {\n",
              "        vertical-align: middle;\n",
              "    }\n",
              "\n",
              "    .dataframe tbody tr th {\n",
              "        vertical-align: top;\n",
              "    }\n",
              "\n",
              "    .dataframe thead th {\n",
              "        text-align: right;\n",
              "    }\n",
              "</style>\n",
              "<table border=\"1\" class=\"dataframe\">\n",
              "  <thead>\n",
              "    <tr style=\"text-align: right;\">\n",
              "      <th></th>\n",
              "      <th>zhangzhenhuan</th>\n",
              "      <th>zhangzixian</th>\n",
              "      <th>zhangziyi</th>\n",
              "      <th>zhaobenshan</th>\n",
              "      <th>zhaojinmai</th>\n",
              "      <th>zhaojun</th>\n",
              "      <th>zhaolixin</th>\n",
              "      <th>zhaolusi</th>\n",
              "      <th>zhaoshunran</th>\n",
              "      <th>zhaowei</th>\n",
              "      <th>...</th>\n",
              "      <th>şahinirmak</th>\n",
              "      <th>şebnembozoklu</th>\n",
              "      <th>şenaygürler</th>\n",
              "      <th>şenolsönmez</th>\n",
              "      <th>şeref</th>\n",
              "      <th>şerifsezer</th>\n",
              "      <th>şinasiyurtsever</th>\n",
              "      <th>şiten</th>\n",
              "      <th>şler</th>\n",
              "      <th>şükranovalı</th>\n",
              "    </tr>\n",
              "  </thead>\n",
              "  <tbody>\n",
              "    <tr>\n",
              "      <th>0</th>\n",
              "      <td>0.0</td>\n",
              "      <td>0.0</td>\n",
              "      <td>0.0</td>\n",
              "      <td>0.0</td>\n",
              "      <td>0.0</td>\n",
              "      <td>0.0</td>\n",
              "      <td>0.0</td>\n",
              "      <td>0.0</td>\n",
              "      <td>0.0</td>\n",
              "      <td>0.0</td>\n",
              "      <td>...</td>\n",
              "      <td>0.0</td>\n",
              "      <td>0.0</td>\n",
              "      <td>0.0</td>\n",
              "      <td>0.0</td>\n",
              "      <td>0.0</td>\n",
              "      <td>0.0</td>\n",
              "      <td>0.0</td>\n",
              "      <td>0.0</td>\n",
              "      <td>0.0</td>\n",
              "      <td>0.0</td>\n",
              "    </tr>\n",
              "    <tr>\n",
              "      <th>1</th>\n",
              "      <td>0.0</td>\n",
              "      <td>0.0</td>\n",
              "      <td>0.0</td>\n",
              "      <td>0.0</td>\n",
              "      <td>0.0</td>\n",
              "      <td>0.0</td>\n",
              "      <td>0.0</td>\n",
              "      <td>0.0</td>\n",
              "      <td>0.0</td>\n",
              "      <td>0.0</td>\n",
              "      <td>...</td>\n",
              "      <td>0.0</td>\n",
              "      <td>0.0</td>\n",
              "      <td>0.0</td>\n",
              "      <td>0.0</td>\n",
              "      <td>0.0</td>\n",
              "      <td>0.0</td>\n",
              "      <td>0.0</td>\n",
              "      <td>0.0</td>\n",
              "      <td>0.0</td>\n",
              "      <td>0.0</td>\n",
              "    </tr>\n",
              "    <tr>\n",
              "      <th>2</th>\n",
              "      <td>0.0</td>\n",
              "      <td>0.0</td>\n",
              "      <td>0.0</td>\n",
              "      <td>0.0</td>\n",
              "      <td>0.0</td>\n",
              "      <td>0.0</td>\n",
              "      <td>0.0</td>\n",
              "      <td>0.0</td>\n",
              "      <td>0.0</td>\n",
              "      <td>0.0</td>\n",
              "      <td>...</td>\n",
              "      <td>0.0</td>\n",
              "      <td>0.0</td>\n",
              "      <td>0.0</td>\n",
              "      <td>0.0</td>\n",
              "      <td>0.0</td>\n",
              "      <td>0.0</td>\n",
              "      <td>0.0</td>\n",
              "      <td>0.0</td>\n",
              "      <td>0.0</td>\n",
              "      <td>0.0</td>\n",
              "    </tr>\n",
              "  </tbody>\n",
              "</table>\n",
              "<p>3 rows × 200 columns</p>\n",
              "</div>\n",
              "      <button class=\"colab-df-convert\" onclick=\"convertToInteractive('df-bc804325-697f-4424-9d01-a03d6ea6e195')\"\n",
              "              title=\"Convert this dataframe to an interactive table.\"\n",
              "              style=\"display:none;\">\n",
              "        \n",
              "  <svg xmlns=\"http://www.w3.org/2000/svg\" height=\"24px\"viewBox=\"0 0 24 24\"\n",
              "       width=\"24px\">\n",
              "    <path d=\"M0 0h24v24H0V0z\" fill=\"none\"/>\n",
              "    <path d=\"M18.56 5.44l.94 2.06.94-2.06 2.06-.94-2.06-.94-.94-2.06-.94 2.06-2.06.94zm-11 1L8.5 8.5l.94-2.06 2.06-.94-2.06-.94L8.5 2.5l-.94 2.06-2.06.94zm10 10l.94 2.06.94-2.06 2.06-.94-2.06-.94-.94-2.06-.94 2.06-2.06.94z\"/><path d=\"M17.41 7.96l-1.37-1.37c-.4-.4-.92-.59-1.43-.59-.52 0-1.04.2-1.43.59L10.3 9.45l-7.72 7.72c-.78.78-.78 2.05 0 2.83L4 21.41c.39.39.9.59 1.41.59.51 0 1.02-.2 1.41-.59l7.78-7.78 2.81-2.81c.8-.78.8-2.07 0-2.86zM5.41 20L4 18.59l7.72-7.72 1.47 1.35L5.41 20z\"/>\n",
              "  </svg>\n",
              "      </button>\n",
              "      \n",
              "  <style>\n",
              "    .colab-df-container {\n",
              "      display:flex;\n",
              "      flex-wrap:wrap;\n",
              "      gap: 12px;\n",
              "    }\n",
              "\n",
              "    .colab-df-convert {\n",
              "      background-color: #E8F0FE;\n",
              "      border: none;\n",
              "      border-radius: 50%;\n",
              "      cursor: pointer;\n",
              "      display: none;\n",
              "      fill: #1967D2;\n",
              "      height: 32px;\n",
              "      padding: 0 0 0 0;\n",
              "      width: 32px;\n",
              "    }\n",
              "\n",
              "    .colab-df-convert:hover {\n",
              "      background-color: #E2EBFA;\n",
              "      box-shadow: 0px 1px 2px rgba(60, 64, 67, 0.3), 0px 1px 3px 1px rgba(60, 64, 67, 0.15);\n",
              "      fill: #174EA6;\n",
              "    }\n",
              "\n",
              "    [theme=dark] .colab-df-convert {\n",
              "      background-color: #3B4455;\n",
              "      fill: #D2E3FC;\n",
              "    }\n",
              "\n",
              "    [theme=dark] .colab-df-convert:hover {\n",
              "      background-color: #434B5C;\n",
              "      box-shadow: 0px 1px 3px 1px rgba(0, 0, 0, 0.15);\n",
              "      filter: drop-shadow(0px 1px 2px rgba(0, 0, 0, 0.3));\n",
              "      fill: #FFFFFF;\n",
              "    }\n",
              "  </style>\n",
              "\n",
              "      <script>\n",
              "        const buttonEl =\n",
              "          document.querySelector('#df-bc804325-697f-4424-9d01-a03d6ea6e195 button.colab-df-convert');\n",
              "        buttonEl.style.display =\n",
              "          google.colab.kernel.accessAllowed ? 'block' : 'none';\n",
              "\n",
              "        async function convertToInteractive(key) {\n",
              "          const element = document.querySelector('#df-bc804325-697f-4424-9d01-a03d6ea6e195');\n",
              "          const dataTable =\n",
              "            await google.colab.kernel.invokeFunction('convertToInteractive',\n",
              "                                                     [key], {});\n",
              "          if (!dataTable) return;\n",
              "\n",
              "          const docLinkHtml = 'Like what you see? Visit the ' +\n",
              "            '<a target=\"_blank\" href=https://colab.research.google.com/notebooks/data_table.ipynb>data table notebook</a>'\n",
              "            + ' to learn more about interactive tables.';\n",
              "          element.innerHTML = '';\n",
              "          dataTable['output_type'] = 'display_data';\n",
              "          await google.colab.output.renderOutput(dataTable, element);\n",
              "          const docLink = document.createElement('div');\n",
              "          docLink.innerHTML = docLinkHtml;\n",
              "          element.appendChild(docLink);\n",
              "        }\n",
              "      </script>\n",
              "    </div>\n",
              "  </div>\n",
              "  "
            ]
          },
          "metadata": {},
          "execution_count": 9
        }
      ],
      "source": [
        "df_v1.iloc[:3,19800:20000]"
      ]
    },
    {
      "cell_type": "code",
      "execution_count": 10,
      "metadata": {
        "id": "EMoEo7J9gJsx"
      },
      "outputs": [],
      "source": [
        "#Above is the sparce matrix so to do PCA we make it in array form.\n",
        "X1 = X.toarray()"
      ]
    },
    {
      "cell_type": "code",
      "execution_count": 11,
      "metadata": {
        "colab": {
          "base_uri": "https://localhost:8080/"
        },
        "id": "45A-x0CNgfS5",
        "outputId": "34c8aa50-9e55-492c-ca70-48ad51f7f744"
      },
      "outputs": [
        {
          "output_type": "execute_result",
          "data": {
            "text/plain": [
              "PCA(random_state=40)"
            ]
          },
          "metadata": {},
          "execution_count": 11
        }
      ],
      "source": [
        "# using PCA to reduce dimensionality\n",
        "from sklearn.decomposition import PCA\n",
        "pca = PCA(random_state=40)\n",
        "pca.fit(X1)"
      ]
    },
    {
      "cell_type": "code",
      "execution_count": null,
      "metadata": {
        "colab": {
          "base_uri": "https://localhost:8080/",
          "height": 388
        },
        "id": "UKTaD5erivuP",
        "outputId": "1d71ca7b-5678-4d94-b18e-f979545057ab"
      },
      "outputs": [
        {
          "data": {
            "image/png": "[encoded data removed]",
            "text/plain": [
              "<Figure size 864x432 with 1 Axes>"
            ]
          },
          "metadata": {},
          "output_type": "display_data"
        }
      ],
      "source": [
        "# Lets plot explained var v/s comp to check how many components to be considered.\n",
        "plt.figure(figsize=(12,6))\n",
        "plt.plot(np.cumsum(pca.explained_variance_ratio_))\n",
        "plt.xlabel('number of components')\n",
        "plt.ylabel('cumulative explained variance')\n",
        "plt.show()"
      ]
    },
    {
      "cell_type": "code",
      "execution_count": null,
      "metadata": {
        "colab": {
          "base_uri": "https://localhost:8080/"
        },
        "id": "TIwD3gJTjGhv",
        "outputId": "510eb55a-edd4-497d-ec1c-1547e9c50225"
      },
      "outputs": [
        {
          "output_type": "execute_result",
          "data": {
            "text/plain": [
              "PCA(n_components=5000, random_state=40)"
            ]
          },
          "metadata": {},
          "execution_count": 12
        }
      ],
      "source": [
        "# reducing the dimensions to 5000 using pca\n",
        "pca = PCA(n_components=5000,random_state=40)\n",
        "pca.fit(X1)"
      ]
    },
    {
      "cell_type": "code",
      "execution_count": null,
      "metadata": {
        "colab": {
          "base_uri": "https://localhost:8080/"
        },
        "id": "vDtoaKAt-Z0W",
        "outputId": "ee734844-212c-438a-9fed-7687ff44d7e3"
      },
      "outputs": [
        {
          "output_type": "execute_result",
          "data": {
            "text/plain": [
              "(7770, 5000)"
            ]
          },
          "metadata": {},
          "execution_count": 13
        }
      ],
      "source": [
        "X_transformed = pca.transform(X1)\n",
        "X_transformed.shape"
      ]
    },
    {
      "cell_type": "code",
      "execution_count": null,
      "metadata": {
        "colab": {
          "base_uri": "https://localhost:8080/",
          "height": 393
        },
        "id": "hfJ2nUGrFOmV",
        "outputId": "c44309df-cba6-43c0-ec63-dffec78e6734"
      },
      "outputs": [
        {
          "data": {
            "image/png": "[encoded data removed]",
            "text/plain": [
              "<Figure size 576x396 with 1 Axes>"
            ]
          },
          "metadata": {},
          "output_type": "display_data"
        },
        {
          "data": {
            "text/plain": [
              "<matplotlib.axes._subplots.AxesSubplot at 0x7fdb455a86d0>"
            ]
          },
          "execution_count": 15,
          "metadata": {},
          "output_type": "execute_result"
        }
      ],
      "source": [
        "from sklearn.cluster import KMeans\n",
        "\n",
        "from yellowbrick.cluster import KElbowVisualizer\n",
        "\n",
        "model = KMeans(random_state=5)\n",
        "visualizer = KElbowVisualizer(model, k=(2,20), metric='silhouette', timings=False, locate_elbow=False)\n",
        "\n",
        "visualizer.fit(X_transformed)\n",
        "visualizer.show()"
      ]
    },
    {
      "cell_type": "code",
      "execution_count": null,
      "metadata": {
        "colab": {
          "base_uri": "https://localhost:8080/",
          "height": 378
        },
        "id": "WpAGyojwJBrd",
        "outputId": "f9167113-8db1-4505-ba02-82dcb3dbfcb3"
      },
      "outputs": [
        {
          "data": {
            "text/plain": [
              "[<matplotlib.lines.Line2D at 0x7fdb454556a0>]"
            ]
          },
          "execution_count": 16,
          "metadata": {},
          "output_type": "execute_result"
        },
        {
          "data": {
            "image/png": "[encoded data removed]",
            "text/plain": [
              "<Figure size 576x396 with 1 Axes>"
            ]
          },
          "metadata": {},
          "output_type": "display_data"
        }
      ],
      "source": [
        "score_1 = []\n",
        "range_values = range(1, 20)\n",
        "for i in range_values:\n",
        "    kmeans = KMeans(n_clusters = i)\n",
        "    kmeans.fit(X_transformed)\n",
        "    score_1.append(kmeans.inertia_)\n",
        "plt.xlabel('K')\n",
        "plt.ylabel('Sum of squared error')\n",
        "plt.plot(range_values,score_1)    "
      ]
    },
    {
      "cell_type": "code",
      "execution_count": null,
      "metadata": {
        "id": "zPHj39sWY5Mr",
        "colab": {
          "base_uri": "https://localhost:8080/",
          "height": 770
        },
        "outputId": "51f9fc22-1773-4546-a744-067817c07df6"
      },
      "outputs": [
        {
          "output_type": "stream",
          "name": "stdout",
          "text": [
            "For n_clusters = 4, silhouette score is 0.007001914087350734\n"
          ]
        },
        {
          "output_type": "display_data",
          "data": {
            "text/plain": [
              "<Figure size 576x396 with 1 Axes>"
            ],
            "image/png": "[encoded data removed]"
          },
          "metadata": {}
        },
        {
          "output_type": "stream",
          "name": "stdout",
          "text": [
            "For n_clusters = 5, silhouette score is 0.007733079848392729\n"
          ]
        },
        {
          "output_type": "display_data",
          "data": {
            "text/plain": [
              "<Figure size 576x396 with 1 Axes>"
            ],
            "image/png": "[encoded data removed]"
          },
          "metadata": {}
        }
      ],
      "source": [
        "from yellowbrick.cluster import SilhouetteVisualizer\n",
        "from sklearn.metrics import silhouette_score, silhouette_samples \n",
        "\n",
        "for n_clusters in range(4,12):\n",
        "      km = KMeans (n_clusters=n_clusters, random_state=5)\n",
        "      preds = km.fit_predict(X_transformed)\n",
        "      centers = km.cluster_centers_\n",
        "\n",
        "      score = silhouette_score(X_transformed, preds, metric='euclidean')\n",
        "      print (\"For n_clusters = {}, silhouette score is {}\".format(n_clusters, score))\n",
        "\n",
        "      visualizer = SilhouetteVisualizer(km)\n",
        "\n",
        "      visualizer.fit(X_transformed) # Fit the training data to the visualizer\n",
        "      visualizer.poof() # Draw/show/poof the data"
      ]
    },
    {
      "cell_type": "markdown",
      "metadata": {
        "id": "GbQSAhEmwMoP"
      },
      "source": [
        "#2.Hierarchical clustering:"
      ]
    },
    {
      "cell_type": "code",
      "execution_count": null,
      "metadata": {
        "colab": {
          "background_save": true
        },
        "id": "cwruVY2wwPRO",
        "outputId": "bc3a8012-8308-4aea-edd4-b0d095c4811b"
      },
      "outputs": [
        {
          "data": {
            "image/png": "[encoded data removed]",
            "text/plain": [
              "<Figure size 576x396 with 1 Axes>"
            ]
          },
          "metadata": {},
          "output_type": "display_data"
        }
      ],
      "source": [
        "import scipy.cluster.hierarchy as sch\n",
        "dendrogram = sch.dendrogram(sch.linkage(X_transformed, method = 'ward'))\n",
        "plt.title('Dendrogram')\n",
        "plt.xlabel('Customers')\n",
        "plt.ylabel('Euclidean Distances')\n",
        "plt.show()"
      ]
    },
    {
      "cell_type": "code",
      "source": [
        "from sklearn.cluster import AgglomerativeClustering \n",
        "cluster = AgglomerativeClustering(n_clusters = 4,affinity = 'euclidean',linkage = 'ward')\n",
        "X_pred = cluster.fit_predict(X_transformed)"
      ],
      "metadata": {
        "id": "1Kfj0rlROGWM"
      },
      "execution_count": null,
      "outputs": []
    },
    {
      "cell_type": "code",
      "source": [
        "from sklearn.metrics import silhouette_score"
      ],
      "metadata": {
        "id": "UPTJwOz2GTG3"
      },
      "execution_count": null,
      "outputs": []
    },
    {
      "cell_type": "code",
      "source": [
        "silhouette_score(X_transformed,X_pred)"
      ],
      "metadata": {
        "colab": {
          "base_uri": "https://localhost:8080/"
        },
        "id": "n1ruhj77Gw_G",
        "outputId": "0961bf5d-537c-4041-acfd-87e633e6c8f3"
      },
      "execution_count": null,
      "outputs": [
        {
          "output_type": "execute_result",
          "data": {
            "text/plain": [
              "0.002706615443678468"
            ]
          },
          "metadata": {},
          "execution_count": 16
        }
      ]
    },
    {
      "cell_type": "markdown",
      "source": [
        "#Get Recommendations:"
      ],
      "metadata": {
        "id": "fNy-q5cD67MQ"
      }
    },
    {
      "cell_type": "code",
      "source": [
        "#use of cosine similarity\n",
        "from sklearn.metrics.pairwise  import cosine_similarity\n"
      ],
      "metadata": {
        "id": "AiP36NY7S3k7"
      },
      "execution_count": 12,
      "outputs": []
    },
    {
      "cell_type": "code",
      "source": [
        "sim = cosine_similarity(X1)"
      ],
      "metadata": {
        "id": "ZVPvPsg47O2m"
      },
      "execution_count": 13,
      "outputs": []
    },
    {
      "cell_type": "code",
      "source": [
        "sim"
      ],
      "metadata": {
        "colab": {
          "base_uri": "https://localhost:8080/"
        },
        "id": "Eb5OoSGW7n9r",
        "outputId": "9d56d5f0-cce3-42a1-b404-00fd238e37a8"
      },
      "execution_count": null,
      "outputs": [
        {
          "output_type": "execute_result",
          "data": {
            "text/plain": [
              "array([[1.        , 0.        , 0.05225746, ..., 0.00581253, 0.02176717,\n",
              "        0.00585529],\n",
              "       [0.        , 1.        , 0.00894475, ..., 0.07281883, 0.        ,\n",
              "        0.00242802],\n",
              "       [0.05225746, 0.00894475, 1.        , ..., 0.00952243, 0.01611429,\n",
              "        0.00274726],\n",
              "       ...,\n",
              "       [0.00581253, 0.07281883, 0.00952243, ..., 1.        , 0.00498186,\n",
              "        0.158441  ],\n",
              "       [0.02176717, 0.        , 0.01611429, ..., 0.00498186, 1.        ,\n",
              "        0.03617686],\n",
              "       [0.00585529, 0.00242802, 0.00274726, ..., 0.158441  , 0.03617686,\n",
              "        1.        ]])"
            ]
          },
          "metadata": {},
          "execution_count": 12
        }
      ]
    },
    {
      "cell_type": "code",
      "source": [
        "sim.shape"
      ],
      "metadata": {
        "colab": {
          "base_uri": "https://localhost:8080/"
        },
        "id": "k2qd1Ekx7p-E",
        "outputId": "b812f8c7-9af4-438a-93d3-c8d152cbe134"
      },
      "execution_count": 14,
      "outputs": [
        {
          "output_type": "execute_result",
          "data": {
            "text/plain": [
              "(7770, 7770)"
            ]
          },
          "metadata": {},
          "execution_count": 14
        }
      ]
    },
    {
      "cell_type": "code",
      "source": [
        "sim[1]"
      ],
      "metadata": {
        "colab": {
          "base_uri": "https://localhost:8080/"
        },
        "id": "EHbavlm771Lj",
        "outputId": "401740df-7214-43ee-f6d7-79a4f9133ad5"
      },
      "execution_count": null,
      "outputs": [
        {
          "output_type": "execute_result",
          "data": {
            "text/plain": [
              "array([0.        , 1.        , 0.00894475, ..., 0.07281883, 0.        ,\n",
              "       0.00242802])"
            ]
          },
          "metadata": {},
          "execution_count": 14
        }
      ]
    },
    {
      "cell_type": "code",
      "source": [
        "nmt4[nmt4['title']== '9'].index[0]"
      ],
      "metadata": {
        "colab": {
          "base_uri": "https://localhost:8080/"
        },
        "id": "-iCGPGXh8TE6",
        "outputId": "8b1a9577-7a79-474e-f1ec-55332250484c"
      },
      "execution_count": null,
      "outputs": [
        {
          "output_type": "execute_result",
          "data": {
            "text/plain": [
              "3"
            ]
          },
          "metadata": {},
          "execution_count": 20
        }
      ]
    },
    {
      "cell_type": "code",
      "source": [
        "dist = sim[1]\n",
        "dist"
      ],
      "metadata": {
        "colab": {
          "base_uri": "https://localhost:8080/"
        },
        "id": "p6xB4-b3-3AV",
        "outputId": "22b53697-4ee8-4eb2-ef37-6b31aa323e17"
      },
      "execution_count": null,
      "outputs": [
        {
          "output_type": "execute_result",
          "data": {
            "text/plain": [
              "array([0.        , 1.        , 0.00894475, ..., 0.07281883, 0.        ,\n",
              "       0.00242802])"
            ]
          },
          "metadata": {},
          "execution_count": 22
        }
      ]
    },
    {
      "cell_type": "code",
      "source": [
        "#defining a function such that it recommend 10 movies .\n",
        "def recomend(movie):\n",
        "  movie_index = nmt4[nmt4['title']== movie].index[0]\n",
        "  dist = sim[movie_index]\n",
        "  movie_list = sorted(list(enumerate(dist)),reverse = True,key = lambda x:x[1])[1:11]\n",
        "\n",
        "  for i in movie_list:\n",
        "    print(nmt4.iloc[i[0]].title)\n"
      ],
      "metadata": {
        "id": "4X72FV8B8NA2"
      },
      "execution_count": 15,
      "outputs": []
    },
    {
      "cell_type": "code",
      "source": [
        "# Recomendation\n",
        "recomend('9')"
      ],
      "metadata": {
        "colab": {
          "base_uri": "https://localhost:8080/"
        },
        "id": "VHM5yQNu_k-Y",
        "outputId": "a8e0038b-adb5-49da-8c45-e8facef6e30f"
      },
      "execution_count": 16,
      "outputs": [
        {
          "output_type": "stream",
          "name": "stdout",
          "text": [
            "Cirque du Freak: The Vampire's Assistant\n",
            "The River Wild\n",
            "Real Steel\n",
            "The Lord of the Rings: The Return of the King\n",
            "Extinction\n",
            "Small Soldiers\n",
            "The Dark Crystal: Age of Resistance\n",
            "The Book of Eli\n",
            "Tremors 2: Aftershocks\n",
            "The Imaginarium of Doctor Parnassus\n"
          ]
        }
      ]
    }
  ],
  "metadata": {
    "colab": {
      "machine_shape": "hm",
      "provenance": [],
      "include_colab_link": true
    },
    "gpuClass": "standard",
    "kernelspec": {
      "display_name": "Python 3",
      "name": "python3"
    }
  },
  "nbformat": 4,
  "nbformat_minor": 0
}